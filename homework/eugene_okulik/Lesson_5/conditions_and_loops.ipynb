{
 "cells": [
  {
   "cell_type": "markdown",
   "metadata": {},
   "source": [
    "### Распаковка\n",
    "Используется для того, чтобы распределить элементы коллекции (список, словарь, множество, кортеж) по отдельным переменным.  \n",
    "Используется только в ситуациях, когда вы наверняка знаете количество элементов, содержащихся в коллекции."
   ]
  },
  {
   "cell_type": "code",
   "execution_count": 13,
   "metadata": {},
   "outputs": [
    {
     "name": "stdout",
     "output_type": "stream",
     "text": [
      "Q A\n"
     ]
    }
   ],
   "source": [
    "user_input = [input('first: '), input('second')]\n",
    "# user_input = [1]\n",
    "# user_input = {2: 'werw', 5: 'werw'}\n",
    "# user_input = 'QA'\n",
    "# var_1 = user_input[0]\n",
    "# var_2 = user_input[1]\n",
    "var_1, var_2 = user_input\n",
    "print(var_1, var_2)"
   ]
  },
  {
   "cell_type": "markdown",
   "metadata": {},
   "source": [
    "### Еще методы для строк"
   ]
  },
  {
   "cell_type": "code",
   "execution_count": 15,
   "metadata": {},
   "outputs": [
    {
     "name": "stdout",
     "output_type": "stream",
     "text": [
      "Hello universe!\n"
     ]
    }
   ],
   "source": [
    "msg = 'Hello world!'\n",
    "\n",
    "msg = msg.replace('world', 'universe')\n",
    "\n",
    "print(msg)"
   ]
  },
  {
   "cell_type": "code",
   "execution_count": 19,
   "metadata": {},
   "outputs": [
    {
     "name": "stdout",
     "output_type": "stream",
     "text": [
      "12.3\n"
     ]
    }
   ],
   "source": [
    "data = '12,3'\n",
    "\n",
    "data = data.replace(',', '.')\n",
    "\n",
    "data = float(data)\n",
    "\n",
    "print(data)"
   ]
  },
  {
   "cell_type": "code",
   "execution_count": 24,
   "metadata": {},
   "outputs": [
    {
     "name": "stdout",
     "output_type": "stream",
     "text": [
      " admin\n"
     ]
    }
   ],
   "source": [
    "login = ' admin '\n",
    "\n",
    "# login = login.strip()\n",
    "# login = login.lstrip()\n",
    "login = login.rstrip()\n",
    "\n",
    "print(login)"
   ]
  },
  {
   "cell_type": "code",
   "execution_count": 25,
   "metadata": {},
   "outputs": [
    {
     "name": "stdout",
     "output_type": "stream",
     "text": [
      "value\n"
     ]
    }
   ],
   "source": [
    "data1 = '::value::'\n",
    "data1 = data1.strip(':')\n",
    "print(data1)"
   ]
  },
  {
   "cell_type": "code",
   "execution_count": 33,
   "metadata": {},
   "outputs": [
    {
     "name": "stdout",
     "output_type": "stream",
     "text": [
      "art\n"
     ]
    }
   ],
   "source": [
    "data2 = 'stsart'\n",
    "\n",
    "data2 = data2.lstrip('st')\n",
    "\n",
    "print(data2)"
   ]
  },
  {
   "cell_type": "markdown",
   "metadata": {},
   "source": [
    "# Строка ←→ список"
   ]
  },
  {
   "cell_type": "code",
   "execution_count": 36,
   "metadata": {},
   "outputs": [
    {
     "name": "stdout",
     "output_type": "stream",
     "text": [
      "['some', 'little', 'text', 'with', 'text', 'that', 'explains', 'something']\n",
      "2\n"
     ]
    }
   ],
   "source": [
    "my_string = 'some little text with text that explains something'\n",
    "\n",
    "list_from_string = my_string.split()\n",
    "\n",
    "print(list_from_string)\n",
    "print(list_from_string.count('text'))"
   ]
  },
  {
   "cell_type": "code",
   "execution_count": 38,
   "metadata": {},
   "outputs": [
    {
     "name": "stdout",
     "output_type": "stream",
     "text": [
      "['London', 'New-York', 'Moscow']\n"
     ]
    }
   ],
   "source": [
    "my_data = 'London,New-York,Moscow'\n",
    "cities = my_data.split(',')\n",
    "\n",
    "print(cities)"
   ]
  },
  {
   "cell_type": "code",
   "execution_count": 40,
   "metadata": {},
   "outputs": [
    {
     "name": "stdout",
     "output_type": "stream",
     "text": [
      "['1', '3', '4']\n"
     ]
    }
   ],
   "source": [
    "numbers = '1, 3, 4'\n",
    "nums = numbers.split(', ')\n",
    "\n",
    "print(nums)"
   ]
  },
  {
   "cell_type": "code",
   "execution_count": 48,
   "metadata": {},
   "outputs": [
    {
     "name": "stdout",
     "output_type": "stream",
     "text": [
      "Python, Java, Ruby\n"
     ]
    }
   ],
   "source": [
    "languages = ['Python', 'Java', 'Ruby']\n",
    "\n",
    "languages = ', '.join(languages)\n",
    "\n",
    "print(languages)"
   ]
  },
  {
   "cell_type": "markdown",
   "metadata": {},
   "source": [
    "# Форматирование строки"
   ]
  },
  {
   "cell_type": "code",
   "execution_count": 73,
   "metadata": {},
   "outputs": [
    {
     "name": "stdout",
     "output_type": "stream",
     "text": [
      "First word is 1 , second word is two\n",
      "First word is 1, second word is two\n",
      "First word is 1, second word is two\n",
      "First word is 1, second word is two\n"
     ]
    }
   ],
   "source": [
    "# a = 'one'\n",
    "a = 1\n",
    "b = 'two'\n",
    "print('First word is', a, ', second word is', b)\n",
    "\n",
    "\n",
    "# my_text = 'First word is ' + a + ', second word is ' + b\n",
    "# print(my_text)\n",
    "\n",
    "my_text = 'First word is %s, second word is %s'\n",
    "print(my_text % (a, b))\n",
    "\n",
    "# string format\n",
    "my_text = 'First word is {0}, second word is {1}'\n",
    "print(my_text.format(a, b))\n",
    "\n",
    "# f-string\n",
    "my_text = f'First word is {a}, second word is {b}'\n",
    "print(my_text)"
   ]
  },
  {
   "cell_type": "code",
   "execution_count": 75,
   "metadata": {},
   "outputs": [
    {
     "name": "stdout",
     "output_type": "stream",
     "text": [
      "your answer was incorrect\n"
     ]
    }
   ],
   "source": [
    "template = 'your answer was {0}'\n",
    "answer = input('answer: ')\n",
    "if answer == 'London':\n",
    "    print(template.format('correct'))\n",
    "else:\n",
    "    print(template.format('incorrect'))"
   ]
  },
  {
   "cell_type": "code",
   "execution_count": null,
   "metadata": {},
   "outputs": [],
   "source": [
    "answer = input('answer: ')\n",
    "if answer == 'London':\n",
    "    result = 'correct'\n",
    "else:\n",
    "    result = 'incorrect'\n",
    "print(f'your answer was {result}')"
   ]
  },
  {
   "cell_type": "markdown",
   "metadata": {},
   "source": [
    "# Условия\n"
   ]
  },
  {
   "cell_type": "code",
   "execution_count": 88,
   "metadata": {},
   "outputs": [
    {
     "name": "stdout",
     "output_type": "stream",
     "text": [
      "Возьми на всякий случай\n"
     ]
    }
   ],
   "source": [
    "rain = None\n",
    "\n",
    "if rain is True:\n",
    "    print('Возьми зонт')\n",
    "elif rain is None:  # else if\n",
    "    print('Возьми на всякий случай')\n",
    "else:\n",
    "    print('не бери зонт')\n"
   ]
  },
  {
   "cell_type": "code",
   "execution_count": 80,
   "metadata": {},
   "outputs": [],
   "source": [
    "c = 10\n",
    "if c <= 10:\n",
    "    print(c)"
   ]
  },
  {
   "cell_type": "code",
   "execution_count": 86,
   "metadata": {},
   "outputs": [
    {
     "name": "stdout",
     "output_type": "stream",
     "text": [
      "не бери зонт\n"
     ]
    }
   ],
   "source": [
    "rain = None\n",
    "\n",
    "if not rain:\n",
    "    print('не бери зонт')\n",
    "elif rain == None:  # else if\n",
    "    print('Возьми на всякий случай')\n",
    "else:\n",
    "    print('бери зонт')"
   ]
  },
  {
   "cell_type": "code",
   "execution_count": 95,
   "metadata": {},
   "outputs": [
    {
     "name": "stdout",
     "output_type": "stream",
     "text": [
      "возьми\n"
     ]
    }
   ],
   "source": [
    "rain = True\n",
    "rain_heaviness = 5\n",
    "\n",
    "if rain is True:\n",
    "    if rain_heaviness < 3:\n",
    "        if rain_heaviness < 1:\n",
    "            print('дождя считай нет')\n",
    "        else:\n",
    "            print('можешь не брать')\n",
    "    elif rain_heaviness >= 3 and rain_heaviness < 7:\n",
    "        print('возьми')\n",
    "    elif rain_heaviness >= 7 and rain_heaviness < 10:\n",
    "        print('уже бесполезно')\n",
    "    else:\n",
    "        print('сиди дома')\n",
    "elif rain is None:  # else if\n",
    "    print('Возьми на всякий случай')\n",
    "else:\n",
    "    print('не бери зонт')"
   ]
  },
  {
   "cell_type": "markdown",
   "metadata": {},
   "source": [
    "# Loops - циклы"
   ]
  },
  {
   "cell_type": "markdown",
   "metadata": {},
   "source": [
    "### for loop - Цикл for"
   ]
  },
  {
   "cell_type": "code",
   "execution_count": 101,
   "metadata": {},
   "outputs": [
    {
     "name": "stdout",
     "output_type": "stream",
     "text": [
      "John\n",
      "Tim\n",
      "James\n",
      "Bob\n",
      "Jim\n",
      "Bill\n",
      "Beam\n"
     ]
    }
   ],
   "source": [
    "names = ['John', 'Tim', 'James', 'Bob', 'Jim', 'Bill', 'Beam']\n",
    "# print(names[0])\n",
    "# print(names[1])\n",
    "# print(names[2])\n",
    "# print(names[3])\n",
    "# print(names[4])\n",
    "# print(names[5])\n",
    "# print(names[6])\n",
    "\n",
    "for name in names:\n",
    "    print(name)"
   ]
  },
  {
   "cell_type": "code",
   "execution_count": 1,
   "metadata": {},
   "outputs": [
    {
     "name": "stdout",
     "output_type": "stream",
     "text": [
      "Mr.John\n",
      "TIm\n",
      "Mr.James\n",
      "Bob\n",
      "Mr.JIm\n",
      "BIll\n",
      "Beam\n",
      "The end\n"
     ]
    }
   ],
   "source": [
    "names = ['John', 'Tim', 'James', 'Bob', 'Jim', 'Bill', 'Beam']\n",
    "\n",
    "for name in names:\n",
    "    name = name.replace('i', 'I')\n",
    "    if name.startswith('J'):\n",
    "        print('Mr.', end='')\n",
    "    print(name)\n",
    "\n",
    "print('The end')"
   ]
  },
  {
   "cell_type": "code",
   "execution_count": 108,
   "metadata": {},
   "outputs": [
    {
     "name": "stdout",
     "output_type": "stream",
     "text": [
      "[0, 1, 2, 3, 4]\n"
     ]
    }
   ],
   "source": [
    "print(list(range(5)))"
   ]
  },
  {
   "cell_type": "code",
   "execution_count": 109,
   "metadata": {},
   "outputs": [
    {
     "name": "stdout",
     "output_type": "stream",
     "text": [
      "0\n",
      "1\n",
      "2\n",
      "3\n",
      "4\n"
     ]
    }
   ],
   "source": [
    "for i in range(5):\n",
    "    print(i)"
   ]
  },
  {
   "cell_type": "code",
   "execution_count": 110,
   "metadata": {},
   "outputs": [
    {
     "name": "stdout",
     "output_type": "stream",
     "text": [
      "Hello\n",
      "Hello\n",
      "Hello\n",
      "Hello\n",
      "Hello\n"
     ]
    }
   ],
   "source": [
    "for _ in range(5):\n",
    "    print('Hello')"
   ]
  },
  {
   "cell_type": "code",
   "execution_count": 117,
   "metadata": {},
   "outputs": [
    {
     "name": "stdout",
     "output_type": "stream",
     "text": [
      "5\n",
      "6\n",
      "3\n",
      "2\n",
      "5\n",
      "6\n",
      "3\n",
      "4\n",
      "6\n"
     ]
    }
   ],
   "source": [
    "lll = [[5, 6, 3], [2, 5, 6], [3, 4, 6]]\n",
    "\n",
    "for x, y, z in lll:\n",
    "    # print(g)\n",
    "    # x, y, z = g\n",
    "    print(x)\n",
    "    print(y)\n",
    "    print(z)"
   ]
  }
 ],
 "metadata": {
  "kernelspec": {
   "display_name": "Python 3 (ipykernel)",
   "language": "python",
   "name": "python3"
  },
  "language_info": {
   "codemirror_mode": {
    "name": "ipython",
    "version": 3
   },
   "file_extension": ".py",
   "mimetype": "text/x-python",
   "name": "python",
   "nbconvert_exporter": "python",
   "pygments_lexer": "ipython3",
   "version": "3.10.12"
  }
 },
 "nbformat": 4,
 "nbformat_minor": 2
}
