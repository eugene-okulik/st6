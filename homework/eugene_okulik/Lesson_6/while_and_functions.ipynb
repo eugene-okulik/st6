{
 "cells": [
  {
   "cell_type": "markdown",
   "metadata": {},
   "source": [
    "### For loop для Dict"
   ]
  },
  {
   "cell_type": "code",
   "execution_count": 1,
   "metadata": {},
   "outputs": [
    {
     "name": "stdout",
     "output_type": "stream",
     "text": [
      "John\n",
      "Tom\n",
      "James\n"
     ]
    }
   ],
   "source": [
    "persons = {'John': 132, 'Tom': 167, 'James': 234}\n",
    "\n",
    "for person in persons:\n",
    "    print(person)"
   ]
  },
  {
   "cell_type": "code",
   "execution_count": 3,
   "metadata": {},
   "outputs": [
    {
     "name": "stdout",
     "output_type": "stream",
     "text": [
      "John: 132\n",
      "Tom: 167\n",
      "James: 234\n"
     ]
    }
   ],
   "source": [
    "persons = {'John': 132, 'Tom': 167, 'James': 234}\n",
    "\n",
    "for person in persons:\n",
    "    print(f'{person}: {persons[person]}')"
   ]
  },
  {
   "cell_type": "code",
   "execution_count": 4,
   "metadata": {},
   "outputs": [
    {
     "name": "stdout",
     "output_type": "stream",
     "text": [
      "132\n",
      "167\n",
      "234\n"
     ]
    }
   ],
   "source": [
    "persons = {'John': 132, 'Tom': 167, 'James': 234}\n",
    "\n",
    "for value in persons.values():\n",
    "    print(value)"
   ]
  },
  {
   "cell_type": "code",
   "execution_count": 8,
   "metadata": {},
   "outputs": [
    {
     "name": "stdout",
     "output_type": "stream",
     "text": [
      "John\n",
      "Tom\n",
      "James\n"
     ]
    }
   ],
   "source": [
    "persons = {'John': 132, 'Tom': 167, 'James': 234}\n",
    "\n",
    "for key in persons.keys():\n",
    "    print(key)"
   ]
  },
  {
   "cell_type": "code",
   "execution_count": 12,
   "metadata": {},
   "outputs": [
    {
     "name": "stdout",
     "output_type": "stream",
     "text": [
      "John: 132\n",
      "Tom: 167\n",
      "James: 234\n"
     ]
    }
   ],
   "source": [
    "persons = {'John': 132, 'Tom': 167, 'James': 234}\n",
    "\n",
    "for name, height in persons.items():\n",
    "    # name, height = person\n",
    "    print(f'{name}: {height}')"
   ]
  },
  {
   "cell_type": "markdown",
   "metadata": {},
   "source": [
    "## While loop - цикл while"
   ]
  },
  {
   "cell_type": "code",
   "execution_count": 15,
   "metadata": {},
   "outputs": [
    {
     "name": "stdout",
     "output_type": "stream",
     "text": [
      "0 Hello\n",
      "1 Hello\n",
      "2 Hello\n",
      "3 Hello\n",
      "4 Hello\n"
     ]
    }
   ],
   "source": [
    "count = 0\n",
    "\n",
    "while count < 5:\n",
    "    print(f'{count} Hello')\n",
    "    count += 1\n",
    "\n",
    "# for _ in range(5):\n",
    "#     print('Hello')"
   ]
  },
  {
   "cell_type": "code",
   "execution_count": 16,
   "metadata": {},
   "outputs": [
    {
     "name": "stdout",
     "output_type": "stream",
     "text": [
      "User said: first\n",
      "User said: secnd\n",
      "User said: third\n",
      "User said: fourth\n",
      "the end\n"
     ]
    }
   ],
   "source": [
    "user_input = input('something: ')\n",
    "\n",
    "while user_input != '.':\n",
    "    print(f'User said: {user_input}')\n",
    "    user_input = input('something: ')\n",
    "\n",
    "print('the end')"
   ]
  },
  {
   "cell_type": "code",
   "execution_count": 22,
   "metadata": {},
   "outputs": [
    {
     "name": "stdout",
     "output_type": "stream",
     "text": [
      "User said: first\n",
      "ай-ай-ай\n",
      "User said: second\n",
      "ай-ай-ай\n",
      "the end\n"
     ]
    }
   ],
   "source": [
    "while True:\n",
    "    user_input = input('something: ')\n",
    "    if user_input in ['xxx', 'yyy', 'www']:\n",
    "        print('ай-ай-ай')\n",
    "        continue\n",
    "    if user_input == '.':\n",
    "        break\n",
    "    print(f'User said: {user_input}')\n",
    "\n",
    "print('the end')"
   ]
  },
  {
   "cell_type": "code",
   "execution_count": 24,
   "metadata": {},
   "outputs": [
    {
     "name": "stdout",
     "output_type": "stream",
     "text": [
      "0\n",
      "1\n",
      "2\n",
      "4\n",
      "5\n",
      "6\n",
      "7\n"
     ]
    }
   ],
   "source": [
    "for x in range(10):\n",
    "    if x == 3:\n",
    "        continue\n",
    "    if x == 8:\n",
    "        break\n",
    "    print(x)"
   ]
  },
  {
   "cell_type": "markdown",
   "metadata": {},
   "source": [
    "## Functions"
   ]
  },
  {
   "cell_type": "markdown",
   "metadata": {},
   "source": [
    "Это самые основные программные структуры в языке Python, позволяющие многократное использование программного кода и уменьшающие его избыточность. Так же позволяют разбить сложную систему на достаточно простые и легко управляемые части. Они могут принимать аргументы и возвращать результаты выполнения."
   ]
  },
  {
   "cell_type": "markdown",
   "metadata": {},
   "source": [
    "DRY - don't repeat yourself"
   ]
  },
  {
   "cell_type": "code",
   "execution_count": 25,
   "metadata": {},
   "outputs": [
    {
     "name": "stdout",
     "output_type": "stream",
     "text": [
      "43\n",
      "47\n",
      "46\n",
      "49\n"
     ]
    }
   ],
   "source": [
    "a = 1\n",
    "b = 5\n",
    "c = 4\n",
    "d = 7\n",
    "\n",
    "main_number = 42\n",
    "\n",
    "print(a + main_number)\n",
    "print(b + main_number)\n",
    "print(c + main_number)\n",
    "print(d + main_number)"
   ]
  },
  {
   "cell_type": "code",
   "execution_count": 26,
   "metadata": {},
   "outputs": [
    {
     "name": "stdout",
     "output_type": "stream",
     "text": [
      "43\n",
      "47\n",
      "46\n",
      "49\n"
     ]
    }
   ],
   "source": [
    "a = 1\n",
    "b = 5\n",
    "c = 4\n",
    "d = 7\n",
    "\n",
    "main_number = 42\n",
    "\n",
    "def calc(num):\n",
    "    print(num + main_number)\n",
    "\n",
    "calc(a)\n",
    "calc(b)\n",
    "calc(c)\n",
    "calc(d)"
   ]
  },
  {
   "cell_type": "code",
   "execution_count": 32,
   "metadata": {},
   "outputs": [
    {
     "name": "stdout",
     "output_type": "stream",
     "text": [
      "43\n",
      "47\n"
     ]
    }
   ],
   "source": [
    "a = 1\n",
    "b = 5\n",
    "c = 4\n",
    "d = 7\n",
    "\n",
    "main_number = 42\n",
    "\n",
    "def calc(num):\n",
    "    result = num + main_number\n",
    "    return result\n",
    "\n",
    "a_result = calc(a)\n",
    "print(a_result)\n",
    "print(calc(b))\n"
   ]
  },
  {
   "cell_type": "code",
   "execution_count": 41,
   "metadata": {},
   "outputs": [
    {
     "name": "stdout",
     "output_type": "stream",
     "text": [
      "Hello Tim\n"
     ]
    }
   ],
   "source": [
    "def hello(name):\n",
    "    print(f'Hello {name}')\n",
    "\n",
    "hello('Tim')"
   ]
  },
  {
   "cell_type": "code",
   "execution_count": null,
   "metadata": {},
   "outputs": [],
   "source": [
    "def is_warm(t):\n",
    "    if t > 20:\n",
    "        return True\n",
    "    elif t < 12:\n",
    "        return False\n",
    "    else:\n",
    "        return"
   ]
  },
  {
   "cell_type": "code",
   "execution_count": 46,
   "metadata": {},
   "outputs": [
    {
     "name": "stdout",
     "output_type": "stream",
     "text": [
      "Water is cold\n",
      "water is ok\n"
     ]
    }
   ],
   "source": [
    "def is_water_ok(t):\n",
    "    if t < 0:\n",
    "        return\n",
    "    if t < 15:\n",
    "        print('Water is cold')\n",
    "    else:\n",
    "        print('water is ok')\n",
    "    \n",
    "is_water_ok(5)\n",
    "is_water_ok(20)\n",
    "is_water_ok(-3)"
   ]
  },
  {
   "cell_type": "code",
   "execution_count": 48,
   "metadata": {},
   "outputs": [
    {
     "name": "stdout",
     "output_type": "stream",
     "text": [
      "hello\n"
     ]
    }
   ],
   "source": [
    "def print_hello():\n",
    "    print('hello')\n",
    "\n",
    "print_hello()"
   ]
  },
  {
   "cell_type": "code",
   "execution_count": 50,
   "metadata": {},
   "outputs": [
    {
     "name": "stdout",
     "output_type": "stream",
     "text": [
      "8\n",
      "4\n"
     ]
    }
   ],
   "source": [
    "def power(number, degree=2):\n",
    "    return number**degree\n",
    "\n",
    "print(power(2, 3))\n",
    "print(power(2))"
   ]
  },
  {
   "cell_type": "code",
   "execution_count": null,
   "metadata": {},
   "outputs": [],
   "source": [
    "def power(number, degree=2):\n",
    "    return number**degree"
   ]
  },
  {
   "cell_type": "code",
   "execution_count": null,
   "metadata": {},
   "outputs": [],
   "source": [
    "def example(e, f, g, h, ff, ee, gg=2, hh=2):\n",
    "    print(e, f, g, ff, h, ee, gg, hh)\n",
    "\n",
    "example(1, 2, 3, 4, 5, 6, 7, 8)\n",
    "example(e=1, f=2, g=3, h=4, ff=5, ee=6, gg=7, hh=8)\n",
    "example(1, 2, 3, h=4, ff=5, ee=6, gg=7, hh=8)"
   ]
  },
  {
   "cell_type": "code",
   "execution_count": 1,
   "metadata": {},
   "outputs": [
    {
     "name": "stdout",
     "output_type": "stream",
     "text": [
      "text\n",
      "text text2\n",
      "text text2 text3\n"
     ]
    }
   ],
   "source": [
    "print('text')\n",
    "print('text', 'text2')\n",
    "print('text', 'text2', 'text3')"
   ]
  },
  {
   "cell_type": "code",
   "execution_count": 4,
   "metadata": {},
   "outputs": [
    {
     "name": "stdout",
     "output_type": "stream",
     "text": [
      "text\n",
      "text text2\n"
     ]
    }
   ],
   "source": [
    "def my_print(a):\n",
    "    print(a)\n",
    "\n",
    "my_print('text')\n",
    "\n",
    "def my_print(a, b):\n",
    "    print(a, b)\n",
    "my_print('text', 'text2')"
   ]
  },
  {
   "cell_type": "code",
   "execution_count": 7,
   "metadata": {},
   "outputs": [
    {
     "name": "stdout",
     "output_type": "stream",
     "text": [
      "('text',)\n",
      "('text', 'text2')\n",
      "('text', 'text2', 'text3')\n"
     ]
    }
   ],
   "source": [
    "def my_print(*a):\n",
    "    print(a)\n",
    "\n",
    "my_print('text')\n",
    "my_print('text', 'text2')\n",
    "my_print('text', 'text2', 'text3')"
   ]
  },
  {
   "cell_type": "code",
   "execution_count": 15,
   "metadata": {},
   "outputs": [
    {
     "name": "stdout",
     "output_type": "stream",
     "text": [
      "text\n",
      "texttext2\n",
      "texttext2text32\n"
     ]
    }
   ],
   "source": [
    "def my_print(*a):\n",
    "    for elt in a:\n",
    "        print(elt, end='')\n",
    "    print()\n",
    "\n",
    "my_print('text')\n",
    "my_print('text', 'text2')\n",
    "my_print('text', 'text2', 'text3', 2)"
   ]
  },
  {
   "cell_type": "code",
   "execution_count": 19,
   "metadata": {},
   "outputs": [
    {
     "name": "stdout",
     "output_type": "stream",
     "text": [
      "tops ['t-shirt', 'shirt', 'qwert']\n"
     ]
    }
   ],
   "source": [
    "my_list = ('tops', 't-shirt', 'shirt', 'qwert')\n",
    "my_list2 = ['jackets', 'suite', 'cardigan']\n",
    "\n",
    "category, *content = my_list\n",
    "# category, *content = my_list2\n",
    "\n",
    "print(category, content)\n",
    "\n"
   ]
  },
  {
   "cell_type": "code",
   "execution_count": 3,
   "metadata": {},
   "outputs": [
    {
     "name": "stdout",
     "output_type": "stream",
     "text": [
      "(45, 4, 5)\n"
     ]
    },
    {
     "data": {
      "text/plain": [
       "54"
      ]
     },
     "execution_count": 3,
     "metadata": {},
     "output_type": "execute_result"
    }
   ],
   "source": [
    "def sum_all(*nums):\n",
    "    print(nums)\n",
    "    result = 0\n",
    "    for num in nums:\n",
    "        result += num\n",
    "    return result\n",
    "\n",
    "\n",
    "numbers = []\n",
    "while True:\n",
    "    \n",
    "    num = input('number: ')\n",
    "    if num == '.':\n",
    "        break\n",
    "    numbers.append(int(num))\n",
    "\n",
    "\n",
    "# sum_all(numbers)  # sum_all([2, 4, 6])\n",
    "print(sum_all(*numbers))  # sum_all(2, 4, 6)\n",
    "\n",
    "    \n",
    "    "
   ]
  },
  {
   "cell_type": "code",
   "execution_count": 4,
   "metadata": {},
   "outputs": [
    {
     "name": "stdout",
     "output_type": "stream",
     "text": [
      "Product iphone: price: 2000\n",
      "Product laptop: price: 2500\n"
     ]
    }
   ],
   "source": [
    "def price_list(title, price):\n",
    "    print(f'Product {title}: price: {price}')\n",
    "\n",
    "price_list('iphone', 2000)\n",
    "price_list('laptop', 2500)"
   ]
  },
  {
   "cell_type": "code",
   "execution_count": 6,
   "metadata": {},
   "outputs": [
    {
     "name": "stdout",
     "output_type": "stream",
     "text": [
      "Product iphone: price: 2000\n",
      "Product laptop: price: 2500\n",
      "Product samsung: price: 100\n"
     ]
    }
   ],
   "source": [
    "def price_list(**kwargs):\n",
    "    for title, price in kwargs.items():\n",
    "        print(f'Product {title}: price: {price}')\n",
    "\n",
    "\n",
    "price_list(iphone=2000, laptop=2500, samsung=100)"
   ]
  },
  {
   "cell_type": "code",
   "execution_count": 7,
   "metadata": {},
   "outputs": [
    {
     "name": "stdout",
     "output_type": "stream",
     "text": [
      "Shop: New shop\n",
      "electronic divices\n",
      "Product iphone price: 2000\n",
      "Product laptop price: 1500\n",
      "Product samsung price: 500\n",
      "Unknown params:\n",
      "234\n",
      "skdjs\n"
     ]
    }
   ],
   "source": [
    "def price_list(list_title, *args, shop_name='My Shop', **kwargs):\n",
    "    print(f'Shop: {shop_name}')\n",
    "    print(list_title)\n",
    "    for title, price in kwargs.items():\n",
    "        print(f'Product {title} price: {price}')\n",
    "    print('Unknown params:')\n",
    "    for arg in args:\n",
    "        print(arg)\n",
    "\n",
    "price_list('electronic divices', 234, 'skdjs', shop_name='New shop',  iphone=2000, laptop=1500, samsung=500)"
   ]
  },
  {
   "cell_type": "markdown",
   "metadata": {},
   "source": [
    "## Generators"
   ]
  },
  {
   "cell_type": "code",
   "execution_count": 26,
   "metadata": {},
   "outputs": [
    {
     "name": "stdout",
     "output_type": "stream",
     "text": [
      "8467049\n"
     ]
    }
   ],
   "source": [
    "text_file = open('big_file.txt')\n",
    "text = text_file.read()\n",
    "\n",
    "words = text.split()\n",
    "counter = 0\n",
    "y_s = []\n",
    "for word in words:\n",
    "    if 'a' in word:\n",
    "        counter += 1\n",
    "        if word.index('a') > 2:\n",
    "            word.replace('a', '-')\n",
    "            # counter *= 2\n",
    "    elif 'y' in word:\n",
    "        y_s.append(word)\n",
    "\n",
    "print(counter)\n",
    "text_file.close()"
   ]
  },
  {
   "cell_type": "code",
   "execution_count": 5,
   "metadata": {},
   "outputs": [
    {
     "name": "stdout",
     "output_type": "stream",
     "text": [
      "one more\n",
      "0\n",
      "[0, 1, 2, 3, 4]\n"
     ]
    }
   ],
   "source": [
    "def ddd():\n",
    "    for i in range(5):\n",
    "        print('one more')\n",
    "        return i\n",
    "    \n",
    "print(ddd())\n",
    "print(list(range(5)))"
   ]
  },
  {
   "cell_type": "code",
   "execution_count": 10,
   "metadata": {},
   "outputs": [
    {
     "name": "stdout",
     "output_type": "stream",
     "text": [
      "8467049\n"
     ]
    }
   ],
   "source": [
    "def word_from_huge_text():\n",
    "    text_file = open('big_file.txt')\n",
    "    for word in text_file.read().split():\n",
    "        yield word\n",
    "    text_file.close()\n",
    "\n",
    "counter = 0\n",
    "y_s = []\n",
    "for x in word_from_huge_text():\n",
    "    if 'a' in x:\n",
    "        counter += 1\n",
    "        if x.index('a') > 2:\n",
    "            x.replace('a', '-')\n",
    "            # counter *= 2\n",
    "    elif 'y' in x:\n",
    "        y_s.append(x)\n",
    "\n",
    "print(counter)"
   ]
  },
  {
   "cell_type": "code",
   "execution_count": 11,
   "metadata": {},
   "outputs": [
    {
     "name": "stdout",
     "output_type": "stream",
     "text": [
      "5001\n"
     ]
    }
   ],
   "source": [
    "def progression():\n",
    "    step = 3\n",
    "    num = 0\n",
    "    while True:\n",
    "        yield num\n",
    "        num += step\n",
    "\n",
    "\n",
    "count_even = 0\n",
    "count = 0\n",
    "for x in progression():\n",
    "    if count > 10000:\n",
    "        break\n",
    "    if x % 2 == 0:\n",
    "        count_even += 1\n",
    "    count += 1\n",
    "\n",
    "print(count_even)"
   ]
  }
 ],
 "metadata": {
  "kernelspec": {
   "display_name": "Python 3",
   "language": "python",
   "name": "python3"
  },
  "language_info": {
   "codemirror_mode": {
    "name": "ipython",
    "version": 3
   },
   "file_extension": ".py",
   "mimetype": "text/x-python",
   "name": "python",
   "nbconvert_exporter": "python",
   "pygments_lexer": "ipython3",
   "version": "3.10.12"
  }
 },
 "nbformat": 4,
 "nbformat_minor": 2
}
