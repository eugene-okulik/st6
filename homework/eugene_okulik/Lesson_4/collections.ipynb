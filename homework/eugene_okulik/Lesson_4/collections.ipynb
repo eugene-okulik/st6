{
 "cells": [
  {
   "cell_type": "markdown",
   "metadata": {},
   "source": [
    "# Типы данных в Python\n",
    "Number (целое число)  \n",
    "String (строка)  \n",
    "Boolean (логический тип данных)  \n",
    "Float(числа с плавающей точкой)  \n",
    "List (список)  \n",
    "Dictionary (словарь)  \n",
    "Tuple (кортеж)  \n",
    "Set (множество)  "
   ]
  },
  {
   "cell_type": "code",
   "execution_count": 3,
   "metadata": {},
   "outputs": [
    {
     "name": "stdout",
     "output_type": "stream",
     "text": [
      "<class 'str'>\n",
      "<class '__main__.st6'>\n"
     ]
    }
   ],
   "source": [
    "a = '1'\n",
    "print(type(a))\n",
    "\n",
    "class st6:\n",
    "    pass\n",
    "\n",
    "b = st6()\n",
    "print(type(b))"
   ]
  },
  {
   "cell_type": "markdown",
   "metadata": {},
   "source": [
    "## List(списки)\n",
    "Python список - структура данных для хранения последовательностей.   \n",
    "Экземпляры значений, находящихся в списке, называются элементами списка."
   ]
  },
  {
   "cell_type": "code",
   "execution_count": 13,
   "metadata": {},
   "outputs": [
    {
     "name": "stdout",
     "output_type": "stream",
     "text": [
      "[1, 3, 6, 7, None, 'text', False, 2.42, 'last', True]\n",
      "None\n",
      "1\n",
      "2.42\n",
      "True\n",
      "2.42\n",
      "[1, 3, 42, 7, None, 'text', False, 2.42, 'last', True]\n"
     ]
    }
   ],
   "source": [
    "my_list = [1, 3, 6, 7, None, 'text', False, 2.42, 'last', True]\n",
    "print(my_list)\n",
    "print(my_list[4])\n",
    "print(my_list[0])\n",
    "print(my_list[7])\n",
    "print(my_list[-1])\n",
    "print(my_list[-3])\n",
    "\n",
    "my_list[2] = 42\n",
    "print(my_list)\n"
   ]
  },
  {
   "cell_type": "code",
   "execution_count": 37,
   "metadata": {},
   "outputs": [
    {
     "name": "stdout",
     "output_type": "stream",
     "text": [
      "[42, '...', 'text', None, 'word']\n",
      "5\n",
      "3\n",
      "1\n",
      "[42, '...', 'word']\n",
      "None\n"
     ]
    }
   ],
   "source": [
    "my_list = []\n",
    "my_list = list()\n",
    "\n",
    "my_list.append(42)\n",
    "my_list.append('...')\n",
    "my_list.append('text')\n",
    "my_list.append(None)\n",
    "my_list.append('word')\n",
    "\n",
    "\n",
    "print(my_list)\n",
    "print(len(my_list))\n",
    "print(my_list.index(None))\n",
    "print(my_list.count(42))\n",
    "none_index = my_list.index(None)\n",
    "poped = my_list.pop(none_index)\n",
    "my_list.remove('text')\n",
    "# my_list.pop(1)\n",
    "print(my_list)\n",
    "print(poped)"
   ]
  },
  {
   "cell_type": "markdown",
   "metadata": {},
   "source": [
    "## Tuple(кортежи)\n",
    "Хранят данные различных типов  \n",
    "Неизменяемы  \n",
    "Занимают меньший размер  \n",
    "Оптимизируются интепретатором   \n",
    "По поведению похожи на списки. Главное отличие - нет функций, позволяющих что-то добавить в кортеж или изменить внутри него"
   ]
  },
  {
   "cell_type": "code",
   "execution_count": 34,
   "metadata": {},
   "outputs": [
    {
     "name": "stdout",
     "output_type": "stream",
     "text": [
      "(1, 3, 6, 7, None, 'text', False, 2.42)\n",
      "6\n",
      "2.42\n"
     ]
    }
   ],
   "source": [
    "my_tuple = (1, 3, 6, 7, None, 'text', False, 2.42)\n",
    "print(my_tuple)\n",
    "print(my_tuple[2])\n",
    "print(my_tuple[-1])\n",
    "# my_tuple[2] = 42"
   ]
  },
  {
   "cell_type": "code",
   "execution_count": 38,
   "metadata": {},
   "outputs": [
    {
     "name": "stdout",
     "output_type": "stream",
     "text": [
      "1\n",
      "4\n"
     ]
    }
   ],
   "source": [
    "my_tuple = ()\n",
    "my_tuple = tuple()\n",
    "my_tuple = (1, 3, 6, 7, None, 'text', False, 6)\n",
    "print(my_tuple.count(3))\n",
    "print(my_tuple.index(None))"
   ]
  },
  {
   "cell_type": "code",
   "execution_count": 51,
   "metadata": {},
   "outputs": [
    {
     "name": "stdout",
     "output_type": "stream",
     "text": [
      "<class 'int'>\n",
      "<class 'tuple'>\n"
     ]
    }
   ],
   "source": [
    "one_list = [42]\n",
    "one_tuple = (42)\n",
    "print(type(one_tuple))\n",
    "one_tuple = (42,)\n",
    "print(type(one_tuple))\n",
    "one_tuple = ('text',)"
   ]
  },
  {
   "cell_type": "code",
   "execution_count": 53,
   "metadata": {},
   "outputs": [
    {
     "name": "stdout",
     "output_type": "stream",
     "text": [
      "qwerty\n"
     ]
    }
   ],
   "source": [
    "s = 'qwe'\n",
    "s += 'rty'\n",
    "print(s)"
   ]
  },
  {
   "cell_type": "markdown",
   "metadata": {},
   "source": [
    "## Set(множества)\n",
    "Содержит в себе только неповторяющиеся элементы  \n",
    "Не гарантирует порядок элементов  \n",
    "Работа с ним тоже похожа на работу со списком  "
   ]
  },
  {
   "cell_type": "code",
   "execution_count": 63,
   "metadata": {},
   "outputs": [
    {
     "name": "stdout",
     "output_type": "stream",
     "text": [
      "{False, 1, 2.42, 3, 6, 7, 'text', None}\n",
      "{1, 3, 9, 6, 7, 'text', None}\n"
     ]
    }
   ],
   "source": [
    "my_set = {1, 3, 6, 7, None, 'text', False, 2.42}\n",
    "print(my_set)\n",
    "my_set = {1, 3, 6, 7, None, 'text', 7, 6}\n",
    "my_set.add(9)\n",
    "print(my_set)\n",
    "# print(my_set[2])\n"
   ]
  },
  {
   "cell_type": "code",
   "execution_count": 66,
   "metadata": {},
   "outputs": [
    {
     "name": "stdout",
     "output_type": "stream",
     "text": [
      "[1, 3, 6, 7, 'text', None]\n"
     ]
    }
   ],
   "source": [
    "lll = [1, 3, 6, 7, None, 'text', 7, 6]\n",
    "lll = set(lll)\n",
    "lll = list(lll)\n",
    "print(lll)"
   ]
  },
  {
   "cell_type": "code",
   "execution_count": 67,
   "metadata": {},
   "outputs": [
    {
     "name": "stdout",
     "output_type": "stream",
     "text": [
      "[1, 3, 6, 7, 'text', None]\n"
     ]
    }
   ],
   "source": [
    "lll = [1, 3, 6, 7, None, 'text', 7, 6]\n",
    "lll = list(set(lll))\n",
    "print(lll)"
   ]
  },
  {
   "cell_type": "code",
   "execution_count": 69,
   "metadata": {},
   "outputs": [
    {
     "data": {
      "text/plain": [
       "set"
      ]
     },
     "execution_count": 69,
     "metadata": {},
     "output_type": "execute_result"
    }
   ],
   "source": [
    "my_set = {}\n",
    "type(my_set)\n",
    "my_set = set()\n",
    "type(my_set)"
   ]
  },
  {
   "cell_type": "markdown",
   "metadata": {},
   "source": [
    "## Dictionary(словари)\n",
    "Словари в Python - коллекции произвольных объектов с доступом по ключу. Их иногда ещё называют ассоциативными массивами или хеш-таблицами.  \n",
    "  \n",
    "данные в словаре - это пары ключ: значение  \n",
    "доступ к значениям осуществляется по ключу, а не по номеру, как в списках  \n",
    "данные в словаре упорядочены по порядку добавления элементов  \n",
    "так как словари изменяемы, то элементы словаря можно менять, добавлять, удалять  \n",
    "ключ должен быть объектом неизменяемого типа: число, строка, кортеж  \n",
    "значение может быть данными любого типа  "
   ]
  },
  {
   "cell_type": "code",
   "execution_count": 88,
   "metadata": {},
   "outputs": [
    {
     "name": "stdout",
     "output_type": "stream",
     "text": [
      "{'one': 'value1', 'two': 'value2'}\n",
      "value1\n",
      "{'hundreed': 'value1', 'thousand': 'value2'}\n",
      "{'hundreed': 'value1', 'thousand': 'value2'}\n",
      "{'one': 'value', 'two': 'value2', 'three': 3, 'four': 4.2, 'five': None, 'six': True, 'seven': [1, 4], 'eight': (1, 4), 'nine': {1, 4}, 'ten': {'hundreed': 'value1', 'thousand': 'value2'}, 11: 'eleven', None: 'werwer', False: 'ksdhskdfj', 2.2: 'skdjfhksjdf', (1, 5, 'text'): 'skdjfhskiwuerwer', 100000: 'wieuywiuery'}\n",
      "dict_values(['value', 'value2', 3, 4.2, None, True, [1, 4], (1, 4), {1, 4}, {'hundreed': 'value1', 'thousand': 'value2'}, 'eleven', 'werwer', 'ksdhskdfj', 'skdjfhksjdf', 'skdjfhskiwuerwer', 'wieuywiuery'])\n",
      "dict_keys(['one', 'two', 'three', 'four', 'five', 'six', 'seven', 'eight', 'nine', 'ten', 11, None, False, 2.2, (1, 5, 'text'), 100000])\n",
      "dict_items([('one', 'value'), ('two', 'value2'), ('three', 3), ('four', 4.2), ('five', None), ('six', True), ('seven', [1, 4]), ('eight', (1, 4)), ('nine', {1, 4}), ('ten', {'hundreed': 'value1', 'thousand': 'value2'}), (11, 'eleven'), (None, 'werwer'), (False, 'ksdhskdfj'), (2.2, 'skdjfhksjdf'), ((1, 5, 'text'), 'skdjfhskiwuerwer'), (100000, 'wieuywiuery')])\n"
     ]
    }
   ],
   "source": [
    "my_dict = {'one': 'value1', 'two': 'value2'}\n",
    "print(my_dict)\n",
    "print(my_dict['one'])\n",
    "my_dict['one'] = 'value'\n",
    "my_dict['three'] = 3\n",
    "my_dict['four'] = 4.2\n",
    "my_dict['five'] = None\n",
    "my_dict['six'] = True\n",
    "my_dict['seven'] = [1, 4]\n",
    "my_dict['eight'] = (1, 4)\n",
    "my_dict['nine'] = {1, 4}\n",
    "my_dict['ten'] = {'hundreed': 'value1', 'thousand': 'value2'}\n",
    "my_dict[11] = 'eleven'\n",
    "my_dict[None] = 'werwer'\n",
    "my_dict[False] = 'ksdhskdfj'\n",
    "my_dict[2.2] = 'skdjfhksjdf'\n",
    "my_dict[(1, 5, 'text')] = 'skdjfhskiwuerwer'\n",
    "my_dict.update({100000: 'wieuywiuery'})\n",
    "print(my_dict.get('ten'))\n",
    "print(my_dict['ten'])\n",
    "\n",
    "\n",
    "print(my_dict)\n",
    "\n",
    "print(my_dict.values())\n",
    "print(my_dict.keys())\n",
    "print(my_dict.items())"
   ]
  },
  {
   "cell_type": "markdown",
   "metadata": {},
   "source": [
    "## Методы строк\n",
    "Со строкой можно делать многое из того, что можно делать с другими коллекциями, т.к. строка это по сути тоже коллекция - последовательность символов. Больше всего функциональность строки похожа на функциональность кортежей."
   ]
  },
  {
   "cell_type": "code",
   "execution_count": 97,
   "metadata": {},
   "outputs": [
    {
     "name": "stdout",
     "output_type": "stream",
     "text": [
      "l\n",
      "19\n",
      "3\n",
      "-1\n",
      "False\n",
      "True\n"
     ]
    }
   ],
   "source": [
    "text = 'my long long string'\n",
    "print(text[3])\n",
    "print(len(text))\n",
    "print(text.index('long'))\n",
    "print(text.find('Long'))\n",
    "print(text.endswith('ag'))\n",
    "print(text.startswith('my'))"
   ]
  },
  {
   "cell_type": "code",
   "execution_count": 98,
   "metadata": {},
   "outputs": [
    {
     "name": "stdout",
     "output_type": "stream",
     "text": [
      "This text with messed up capitalization!\n",
      "This Text With Messed Up Capitalization!\n",
      "THIS TEXT WITH MESSED UP CAPITALIZATION!\n",
      "this text with messed up capitalization!\n"
     ]
    }
   ],
   "source": [
    "txt = \"ThIs tExt wiTh meSsEd uP CaPITalIZatiOn!\"\n",
    "print(txt.capitalize()) # Делает первую букву предложения заглавной\n",
    "print(txt.title())  # Делает каждую первую букву заглавной\n",
    "print(txt.upper())  # Делает все буквы большими\n",
    "print(txt.lower())  # Делает все буквы маленькими"
   ]
  },
  {
   "cell_type": "code",
   "execution_count": 125,
   "metadata": {},
   "outputs": [
    {
     "name": "stdout",
     "output_type": "stream",
     "text": [
      "my long long string iS bad\n",
      "BAD\n"
     ]
    }
   ],
   "source": [
    "text = 'my long long string iS bad'\n",
    "last_word_index = text.lower().index('is'.lower()) + 3\n",
    "print(text)\n",
    "print(text[last_word_index:].upper())"
   ]
  },
  {
   "cell_type": "markdown",
   "metadata": {},
   "source": [
    "### Срез  \n",
    "Извлечение среза позволяет взять из списка определенную его часть"
   ]
  },
  {
   "cell_type": "code",
   "execution_count": 111,
   "metadata": {},
   "outputs": [
    {
     "name": "stdout",
     "output_type": "stream",
     "text": [
      "[1, 3, 5, 2, 5, 7, 1, 3]\n",
      "5\n",
      "[5, 2, 5]\n",
      "[1, 3, 5, 2, 5]\n",
      "[1, 3, 5, 2, 5]\n",
      "[5, 2, 5, 7, 1, 3]\n",
      "[1, 3, 5, 2, 5, 7, 1, 3]\n",
      "[1, 5, 5, 1]\n",
      "[1, 2, 1]\n",
      "[1, 3, 5, 2, 5, 7, 1, 3]\n",
      "[3, 1, 7, 5, 2, 5, 3, 1]\n",
      "[3, 7, 2, 3]\n",
      "[1, 7, 5, 2]\n"
     ]
    }
   ],
   "source": [
    "lll = [1, 3, 5, 2, 5, 7 ,1, 3]\n",
    "print(lll)\n",
    "print(lll[2])\n",
    "print(lll[2:5])\n",
    "print(lll[0:5])\n",
    "print(lll[:5])\n",
    "print(lll[2:])\n",
    "print(lll[:])\n",
    "print(lll[::2])\n",
    "print(lll[::3])\n",
    "print(lll[::1])\n",
    "print(lll[::-1])\n",
    "print(lll[::-2])\n",
    "print(lll[-2:-6:-1])"
   ]
  },
  {
   "cell_type": "code",
   "execution_count": 112,
   "metadata": {},
   "outputs": [
    {
     "name": "stdout",
     "output_type": "stream",
     "text": [
      "uejskrud\n",
      "j\n",
      "jsk\n",
      "uejsk\n",
      "uejsk\n",
      "jskrud\n",
      "uejskrud\n",
      "ujku\n",
      "usu\n",
      "uejskrud\n",
      "durksjeu\n",
      "drse\n",
      "urks\n"
     ]
    }
   ],
   "source": [
    "lll = 'uejskrud'\n",
    "print(lll)\n",
    "print(lll[2])\n",
    "print(lll[2:5])\n",
    "print(lll[0:5])\n",
    "print(lll[:5])\n",
    "print(lll[2:])\n",
    "print(lll[:])\n",
    "print(lll[::2])\n",
    "print(lll[::3])\n",
    "print(lll[::1])\n",
    "print(lll[::-1])\n",
    "print(lll[::-2])\n",
    "print(lll[-2:-6:-1])"
   ]
  }
 ],
 "metadata": {
  "kernelspec": {
   "display_name": "Python 3",
   "language": "python",
   "name": "python3"
  },
  "language_info": {
   "codemirror_mode": {
    "name": "ipython",
    "version": 3
   },
   "file_extension": ".py",
   "mimetype": "text/x-python",
   "name": "python",
   "nbconvert_exporter": "python",
   "pygments_lexer": "ipython3",
   "version": "3.10.12"
  }
 },
 "nbformat": 4,
 "nbformat_minor": 2
}
