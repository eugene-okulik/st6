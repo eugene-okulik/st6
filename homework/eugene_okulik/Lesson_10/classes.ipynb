{
 "cells": [
  {
   "cell_type": "code",
   "execution_count": 33,
   "metadata": {},
   "outputs": [],
   "source": [
    "from abc import ABCMeta, abstractmethod\n",
    "\n",
    "class Group:\n",
    "    pupils = True\n",
    "    school_name = 42\n",
    "    director = 'Marivanna'\n",
    "\n",
    "    def __init__(self, title, pupils_count, group_leader):\n",
    "        self.title = title\n",
    "        self.pupils_count = pupils_count\n",
    "        self.group_leader = group_leader\n",
    "\n",
    "    def study(self):\n",
    "        print('sit down and read')\n",
    "\n",
    "    @abstractmethod\n",
    "    def move(self):\n",
    "        pass\n",
    "\n",
    "    def eat(self):\n",
    "        print('eat')\n",
    "\n",
    "\n",
    "class PrimaryGroup(Group):\n",
    "    max_age = 11\n",
    "    min_age = 6\n",
    "    section = 'left'\n",
    "\n",
    "    def __init__(self, title, pupils_count, group_leader, class_room):\n",
    "        super().__init__(title, pupils_count, group_leader)\n",
    "        self.class_room = class_room\n",
    "\n",
    "\n",
    "    def move(self):\n",
    "        print('run fast')\n",
    "\n",
    "    def eat(self):\n",
    "        print('make a mess')\n",
    "    \n",
    "\n",
    "\n",
    "class HighGroup(Group):\n",
    "    max_age = 18\n",
    "    min_age = 14\n",
    "\n",
    "    def move(self):\n",
    "        print('Go slowly')\n",
    "\n",
    "\n",
    "class MediumGroup(Group):\n",
    "    max_age = 15\n",
    "    min_age = 11\n"
   ]
  },
  {
   "cell_type": "markdown",
   "metadata": {},
   "source": [
    "объект = представитель класса = экземпляр класса"
   ]
  },
  {
   "cell_type": "code",
   "execution_count": 35,
   "metadata": {},
   "outputs": [
    {
     "name": "stdout",
     "output_type": "stream",
     "text": [
      "True\n",
      "left\n",
      "15\n",
      "left\n",
      "True\n",
      "2B\n",
      "102\n",
      "sit down and read\n",
      "make a mess\n"
     ]
    }
   ],
   "source": [
    "one_a = PrimaryGroup('1A', 15, 'uncle Basil', 102)\n",
    "one_b = PrimaryGroup('2B', 20, 'WO', 103)\n",
    "\n",
    "print(one_a.pupils)\n",
    "print(one_a.section)\n",
    "print(one_a.pupils_count)\n",
    "print(one_b.section)\n",
    "print(one_b.pupils)\n",
    "print(one_b.title)\n",
    "print(one_a.class_room)\n",
    "\n",
    "# eleven_a = HighGroup()\n",
    "# print(eleven_a.pupils)\n",
    "# print(eleven_a.max_age)\n",
    "one_a.study()\n",
    "# eleven_a.study()\n",
    "# eleven_a.eat()\n",
    "one_a.eat()\n"
   ]
  }
 ],
 "metadata": {
  "kernelspec": {
   "display_name": "Python 3",
   "language": "python",
   "name": "python3"
  },
  "language_info": {
   "codemirror_mode": {
    "name": "ipython",
    "version": 3
   },
   "file_extension": ".py",
   "mimetype": "text/x-python",
   "name": "python",
   "nbconvert_exporter": "python",
   "pygments_lexer": "ipython3",
   "version": "3.10.12"
  }
 },
 "nbformat": 4,
 "nbformat_minor": 2
}
