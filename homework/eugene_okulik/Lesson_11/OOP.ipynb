{
 "cells": [
  {
   "cell_type": "markdown",
   "metadata": {},
   "source": [
    "# ООП - объектно-ориентированное программирование"
   ]
  },
  {
   "cell_type": "markdown",
   "metadata": {},
   "source": [
    "Приципы ООП:\n",
    "\n",
    "- Инкапсуляция (Encapsulation)\n",
    "- Наследование (inheritance)\n",
    "- Полиморфизм (Polymorphism)"
   ]
  },
  {
   "cell_type": "markdown",
   "metadata": {},
   "source": [
    "### Инкапсуляция\n",
    "Все данные объекта должны хранится в объекте. Никто не может изменить данные объекта без его ведома."
   ]
  },
  {
   "cell_type": "markdown",
   "metadata": {},
   "source": [
    "### Наследование\n",
    "Объекты и их типы организуют иерархию типов. Дочерние типы наследуют свою функциональность от родительского класса, расширяя и дополняя её."
   ]
  },
  {
   "cell_type": "markdown",
   "metadata": {},
   "source": [
    "### Полиморфизм\n",
    "Способность классов менять своё поведение в зависимости от типов операций и операндов. Полиморфизм в программировании реализуется через перегрузку метода, либо через его переопределение."
   ]
  },
  {
   "cell_type": "code",
   "execution_count": 4,
   "metadata": {},
   "outputs": [
    {
     "data": {
      "text/plain": [
       "{'Country': 'Greece', 'avg_temp': 28}"
      ]
     },
     "execution_count": 4,
     "metadata": {},
     "output_type": "execute_result"
    }
   ],
   "source": [
    "# data1.txt\n",
    "{\"Country\": \"Turkey\", \"avg_temp\": 30}\n",
    "# data2.txt\n",
    "{\"Country\": \"Greece\", \"avg_temp\": 28}"
   ]
  },
  {
   "cell_type": "code",
   "execution_count": 14,
   "metadata": {},
   "outputs": [
    {
     "name": "stdout",
     "output_type": "stream",
     "text": [
      "Turkey\n",
      "Greece\n"
     ]
    }
   ],
   "source": [
    "import json\n",
    "\n",
    "def read_file(filename):\n",
    "    file_data = open(filename, encoding='utf-8')\n",
    "    data = file_data.read()\n",
    "    data = json.loads(data)\n",
    "    file_data.close()\n",
    "    return data\n",
    "\n",
    "data1 = read_file('data1.txt')\n",
    "data2 = read_file('data2.txt')\n",
    "print(data1['Country'])\n",
    "print(data2['Country'])"
   ]
  },
  {
   "cell_type": "code",
   "execution_count": 78,
   "metadata": {},
   "outputs": [],
   "source": [
    "import json\n",
    "\n",
    "class CountryData:\n",
    "    def __init__(self, filename: str):\n",
    "        self.__filename = filename\n",
    "        self.__data = self.__read_file()\n",
    "        self.__country = self.__data['Country']\n",
    "        self.__avg_temp = self.__data['avg_temp']\n",
    "\n",
    "    @property\n",
    "    def avg_temp(self):\n",
    "        return self.__avg_temp\n",
    "    \n",
    "    @property\n",
    "    def country(self):\n",
    "        return self.__country\n",
    "    \n",
    "    @property\n",
    "    def filename(self):\n",
    "        return self.__filename\n",
    "    \n",
    "    @filename.setter\n",
    "    def filename(self, value):\n",
    "        self.__filename = value\n",
    "\n",
    "    @filename.deleter\n",
    "    def filename(self):\n",
    "        self.__filename = None\n",
    "\n",
    "    def __add__(self, obj):\n",
    "        return f'{self.__data} {obj.__data}'\n",
    "        \n",
    "    def __str__(self):\n",
    "        return str(self.__data)\n",
    "    \n",
    "    def __repr__(self):\n",
    "        return str(self.__country)\n",
    "    \n",
    "    def __gt__(self, obj):\n",
    "        return self.__avg_temp > obj.__avg_temp\n",
    "    \n",
    "    def __ge__(self, obj):\n",
    "        return self.__avg_temp >= obj.__avg_temp\n",
    "    \n",
    "    def __eq__(self, obj):\n",
    "        return self.__avg_temp == obj.__avg_temp\n",
    "\n",
    "    def __read_file(self) -> dict:\n",
    "        file_data = open(self.__filename, encoding='utf-8')\n",
    "        data = json.load(file_data)\n",
    "        file_data.close()\n",
    "        return data"
   ]
  },
  {
   "cell_type": "code",
   "execution_count": 61,
   "metadata": {},
   "outputs": [
    {
     "name": "stdout",
     "output_type": "stream",
     "text": [
      "Turkey\n",
      "28\n",
      "None\n"
     ]
    }
   ],
   "source": [
    "data1 = CountryData('data1.txt')\n",
    "data2 = CountryData('data2.txt')\n",
    "\n",
    "print(data1.country)\n",
    "print(data2.avg_temp)\n",
    "data1.filename = 'skjdfhksjdfhksjdfh'\n",
    "del data1.filename\n",
    "print(data1.filename)"
   ]
  },
  {
   "cell_type": "code",
   "execution_count": 80,
   "metadata": {},
   "outputs": [
    {
     "name": "stdout",
     "output_type": "stream",
     "text": [
      "4\n",
      "4\n",
      "{'Country': 'Turkey', 'avg_temp': 30} {'Country': 'Greece', 'avg_temp': 30}\n",
      "{'Country': 'Turkey', 'avg_temp': 30}\n",
      "(Turkey,)\n",
      "False\n",
      "True\n"
     ]
    }
   ],
   "source": [
    "data1 = CountryData('data1.txt')\n",
    "data2 = CountryData('data2.txt')\n",
    "\n",
    "print(2 + 2)\n",
    "print((2).__add__(2))\n",
    "print(data1 + data2)  # data1.__add__(data2)\n",
    "print(data1)  # print(str(data1))  str(data1) ::: data1.__str__()\n",
    "my_tuple = (data1,)\n",
    "print(my_tuple)\n",
    "\n",
    "print(data1 < data2)\n",
    "print(data1 == data2)"
   ]
  },
  {
   "cell_type": "code",
   "execution_count": null,
   "metadata": {},
   "outputs": [],
   "source": [
    "# data3.txt\n",
    "{\"Country\": \"Poland\", \"avg_temp\": 15, \"min_temp\": 2}"
   ]
  },
  {
   "cell_type": "code",
   "execution_count": 16,
   "metadata": {},
   "outputs": [],
   "source": [
    "class CountryDataWithMinTemp(CountryData):\n",
    "    def __init__(self, filename: str):\n",
    "        super().__init__(filename)\n",
    "        self.min_temp = self.data['min_temp']"
   ]
  },
  {
   "cell_type": "code",
   "execution_count": 17,
   "metadata": {},
   "outputs": [
    {
     "name": "stdout",
     "output_type": "stream",
     "text": [
      "2\n"
     ]
    }
   ],
   "source": [
    "data3 = CountryDataWithMinTemp('data3.txt')\n",
    "print(data3.min_temp)"
   ]
  }
 ],
 "metadata": {
  "kernelspec": {
   "display_name": "Python 3",
   "language": "python",
   "name": "python3"
  },
  "language_info": {
   "codemirror_mode": {
    "name": "ipython",
    "version": 3
   },
   "file_extension": ".py",
   "mimetype": "text/x-python",
   "name": "python",
   "nbconvert_exporter": "python",
   "pygments_lexer": "ipython3",
   "version": "3.10.12"
  }
 },
 "nbformat": 4,
 "nbformat_minor": 2
}
